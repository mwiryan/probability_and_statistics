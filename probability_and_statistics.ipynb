{
  "nbformat": 4,
  "nbformat_minor": 0,
  "metadata": {
    "colab": {
      "name": "probability-and-statistics.ipynb",
      "provenance": [],
      "authorship_tag": "ABX9TyP59Bsr/e8TRcXE5bTFpLfa",
      "include_colab_link": true
    },
    "kernelspec": {
      "name": "python3",
      "display_name": "Python 3"
    },
    "language_info": {
      "name": "python"
    }
  },
  "cells": [
    {
      "cell_type": "markdown",
      "metadata": {
        "id": "view-in-github",
        "colab_type": "text"
      },
      "source": [
        "<a href=\"https://colab.research.google.com/github/mwiryan/probability_and_statistics/blob/main/probability_and_statistics.ipynb\" target=\"_parent\"><img src=\"https://colab.research.google.com/assets/colab-badge.svg\" alt=\"Open In Colab\"/></a>"
      ]
    },
    {
      "cell_type": "markdown",
      "metadata": {
        "id": "qHu7zzFLTNzT"
      },
      "source": [
        "## Description\n",
        "This notebook originated while preparing for technical interviews; the subsequent updates were inspired by [CodeAcademy's series on statistics with Python](https://www.youtube.com/playlist?list=PLFzsFUO-y0HDWkdsBMtufEThI2I3c9WlZ) in an attempt to create a teaching tool while solidifying connections in my own learning between programming, statistics, probability, algorithmms, and data structures.\n",
        "\n",
        "## Organization\n",
        "1. Random Variables\n",
        "  * Discrete\n",
        "  * Continuous\n",
        "2. Probability\n",
        "  * Markov Chains\n",
        "3. Linear Algebra\n",
        "4. Hypothesis Testing\n",
        "  * Permutation Testing\n",
        "5. Large Sample Approximations and the Bootstrap\n",
        "  * (Weak) Law of Large Numbers\n",
        "  * Central Limit Theorem\n",
        "  * Bootstrap\n",
        "    * Parametric\n",
        "    * Non-Parametric\n",
        "    * Various Confidence Intervals"
      ]
    },
    {
      "cell_type": "markdown",
      "metadata": {
        "id": "vNmraN4FK-nG"
      },
      "source": [
        "# (Weak) Law of Large Numbers\n",
        "Suppose $X_1$, $X_2$, ..., $X_n$ are i.i.d. with $E[X_1] = \\mu$ and $Var(X_1) < \\infty$, then $\\bar{X_n} = n^{-1}\\sum_{i=1}^{n} X_i \\rightarrow \\mu$ in probability as $n \\rightarrow \\infty$."
      ]
    },
    {
      "cell_type": "code",
      "metadata": {
        "colab": {
          "base_uri": "https://localhost:8080/"
        },
        "id": "tfemiaiFJVUZ",
        "outputId": "83629839-e26c-4503-8d36-53f6a8a45687"
      },
      "source": [
        "# LLN\n",
        "# Tells us that the sample mean converges to the population mean\n",
        "import numpy as np\n",
        "\n",
        "# Generate sample from standard normal\n",
        "data = np.random.normal(size=100)\n",
        "\n",
        "# If we repeatedly sample data from a standard normal distribution\n",
        "# Then the mean will converge to the population mean of zero, which\n",
        "# is defined by the underlying Gaussian data generation process\n",
        "\n",
        "# Repeatedly sample normal and compute the mean\n",
        "averages = []\n",
        "for i in range(10000):\n",
        "  data = np.random.normal(size=10)\n",
        "  average = data.mean()\n",
        "  averages.append(average)\n",
        "\n",
        "sum(averages) / 10000"
      ],
      "execution_count": null,
      "outputs": [
        {
          "output_type": "execute_result",
          "data": {
            "text/plain": [
              "4.46573940592058e-05"
            ]
          },
          "metadata": {
            "tags": []
          },
          "execution_count": 12
        }
      ]
    },
    {
      "cell_type": "markdown",
      "metadata": {
        "id": "GTnABRB7M6Gw"
      },
      "source": [
        "# Central Limit Theorem\n",
        "Suppose $X_1$, $X_2$, ..., $X_n$ are i.i.d. with $E[X_1] = \\mu$ and $Var(X_1) < \\infty$. Let $\\bar{X_n} = n^{-1}\\sum_{i=1}^{n} X_i$. Then $\\frac{\\sqrt{n}}{\\sigma}(\\bar{X_n} - \\mu) \\rightarrow N(0, 1)$ in probability as $n \\rightarrow \\infty$."
      ]
    },
    {
      "cell_type": "code",
      "metadata": {
        "colab": {
          "base_uri": "https://localhost:8080/"
        },
        "id": "tv0IxAicJbm8",
        "outputId": "886e8e4e-1b62-4bc7-812a-5a663f3a82ad"
      },
      "source": [
        "# CLT\n",
        "# Tells that the sampling distribution of the sample mean converges to a normal distribution\n",
        "\n",
        "# Generate a random sample of size n=1000 from non-standard normal\n",
        "n=1000\n",
        "data = np.random.normal(loc=100, scale=10, size=n)\n",
        "sample_mean = sum(data) / 1000\n",
        "np.sqrt(n)/10 * (sample_mean - 100)"
      ],
      "execution_count": null,
      "outputs": [
        {
          "output_type": "execute_result",
          "data": {
            "text/plain": [
              "0.29180592948246253"
            ]
          },
          "metadata": {
            "tags": []
          },
          "execution_count": 19
        }
      ]
    },
    {
      "cell_type": "code",
      "metadata": {
        "id": "nP7dIC0oOs_o"
      },
      "source": [
        ""
      ],
      "execution_count": null,
      "outputs": []
    },
    {
      "cell_type": "code",
      "metadata": {
        "id": "78NFPaAcTM0e"
      },
      "source": [
        ""
      ],
      "execution_count": null,
      "outputs": []
    },
    {
      "cell_type": "markdown",
      "metadata": {
        "id": "iuXacPXXzrvM"
      },
      "source": [
        "# Linear Regression\n",
        "In this lesson, we learn how to check the appropriateness of a simple linear regression model. Recall that the four conditions (\"LINE\") that comprise the simple linear regression model are:\n",
        "\n",
        "Linear Function: The mean of the response, \n",
        "E\n",
        "(\n",
        "Y\n",
        "i\n",
        ")\n",
        ", at each value of the predictor, \n",
        "x\n",
        "i\n",
        ", is a Linear function of the \n",
        "x\n",
        "i\n",
        ".\n",
        "Independent: The errors, \n",
        "ϵ\n",
        "i\n",
        ", are Independent.\n",
        "Normally Distributed: The errors, \n",
        "ϵ\n",
        "i\n",
        ", at each value of the predictor, \n",
        "x\n",
        "i\n",
        ", are Normally distributed.\n",
        "Equal variances: The errors, \n",
        "ϵ\n",
        "i\n",
        ", at each value of the predictor, \n",
        "x\n",
        "i\n",
        ", have Equal variances (denoted \n",
        "σ\n",
        "2\n",
        ").\n",
        "An equivalent way to think of the first (linearity) condition is that the mean of the error, \n",
        "E\n",
        "(\n",
        "ϵ\n",
        "i\n",
        ")\n",
        ", at each value of the predictor, \n",
        "x\n",
        "i\n",
        ", is zero. An alternative way to describe all four assumptions is that the errors, \n",
        "ϵ\n",
        "i\n",
        ", are independent normal random variables with mean zero and constant variance, \n",
        "σ\n",
        "2\n",
        "."
      ]
    },
    {
      "cell_type": "code",
      "metadata": {
        "colab": {
          "base_uri": "https://localhost:8080/"
        },
        "id": "8ii6cJPhjND_",
        "outputId": "4f6c533f-f2ab-4803-81e9-70ae8d1b0f11"
      },
      "source": [
        "# Permutation test\n",
        "\n",
        "# I observed 8 tails in 10 flips of a coin. Is the coin likely to be fair?\n",
        "\n",
        "# Assuming flips are independent...\n",
        "# Let H = heads, then H ~ Bern(p)\n",
        "\n",
        "# If it is fair, then p = 0.5; otherwise, it is more likely to flip tails\n",
        "# (e.g., p < 0.5)\n",
        "\n",
        "# H_0: p = 0.5\n",
        "# H_1: p < 0.5\n",
        "\n",
        "# We need to estimate the probability of observing 8/10 tails\n",
        "p = [None] * 10000\n",
        "for i in range(10000):\n",
        "  experiment = np.random.randint(2, size=10)\n",
        "\n",
        "  proportion_heads = experiment.mean()\n",
        "\n",
        "  proportion_tails = 1 - proportion_heads\n",
        "\n",
        "  p[i] = proportion_tails\n",
        "\n",
        "print('The data appear incompatible with the null hypothesis')\n",
        "round(1 - (sum([0.8 >= x for x in p]) / 10000), 4)"
      ],
      "execution_count": null,
      "outputs": [
        {
          "output_type": "stream",
          "text": [
            "The data appear incompatible with the null hypothesis\n"
          ],
          "name": "stdout"
        },
        {
          "output_type": "execute_result",
          "data": {
            "text/plain": [
              "0.0111"
            ]
          },
          "metadata": {
            "tags": []
          },
          "execution_count": 22
        }
      ]
    },
    {
      "cell_type": "code",
      "metadata": {
        "colab": {
          "base_uri": "https://localhost:8080/",
          "height": 265
        },
        "id": "RGUeubgnkXq4",
        "outputId": "642d7bf9-a525-49f4-8eda-bf10d078ee4e"
      },
      "source": [
        "# Parametric bootstrap\n",
        "\n",
        "# We have some data and are interested in the sample\n",
        "# mean, but we don't know how variable our estimate is\n",
        "\n",
        "# We assume that the data are generated according to a Gaussian process\n",
        "\n",
        "import matplotlib.pyplot as plt\n",
        "\n",
        "# Generate some data\n",
        "x = np.random.randn(100)\n",
        "sample_mean = sum(x) / 100\n",
        "sample_sd = np.sqrt(np.var(x))\n",
        "\n",
        "stats = []\n",
        "for i in range(10000):\n",
        "  # Generate new data based on what we observed\n",
        "  data = np.random.normal(loc = sample_mean, scale = sample_sd, size = len(x))\n",
        "\n",
        "  # Calculate statistic of interest\n",
        "  average = np.mean(data)\n",
        "\n",
        "  # Collect statistics\n",
        "  stats.append(average)\n",
        "\n",
        "plt.hist(stats)\n",
        "plt.axvline(x=sample_mean, color='red');"
      ],
      "execution_count": null,
      "outputs": [
        {
          "output_type": "display_data",
          "data": {
            "image/png": "[encoded data removed]",
            "text/plain": [
              "<Figure size 432x288 with 1 Axes>"
            ]
          },
          "metadata": {
            "tags": [],
            "needs_background": "light"
          }
        }
      ]
    },
    {
      "cell_type": "code",
      "metadata": {
        "id": "9XplPmDcnI9g",
        "colab": {
          "base_uri": "https://localhost:8080/",
          "height": 265
        },
        "outputId": "c6a3f229-b102-49b1-cb14-ebb5a18504d2"
      },
      "source": [
        "# Non-Parametric Bootstrap\n",
        "\n",
        "# Generate data\n",
        "x = np.random.random(size=100)\n",
        "sample_mean = np.mean(x)\n",
        "\n",
        "# Resample with remplacement\n",
        "stats = []\n",
        "for _ in range(10000):\n",
        "  data = np.random.choice(x, size=10, replace=True)\n",
        "  stats.append(data.mean())\n",
        "\n",
        "plt.hist(stats)\n",
        "plt.axvline(sample_mean, color='red');\n",
        "\n"
      ],
      "execution_count": null,
      "outputs": [
        {
          "output_type": "display_data",
          "data": {
            "image/png": "[encoded data removed]",
            "text/plain": [
              "<Figure size 432x288 with 1 Axes>"
            ]
          },
          "metadata": {
            "tags": [],
            "needs_background": "light"
          }
        }
      ]
    },
    {
      "cell_type": "code",
      "metadata": {
        "id": "y2_qEjFctF58",
        "colab": {
          "base_uri": "https://localhost:8080/"
        },
        "outputId": "5995ce26-8ae6-4210-b0e7-e2d8c3a4dafb"
      },
      "source": [
        "# y = 3a + 2b + error1\n",
        "# b = 0.2a + error2\n",
        "import numpy as np\n",
        "np.random.seed(25)\n",
        "\n",
        "# Full\n",
        "# y = beta_1 * a + beta_2 * b\n",
        "# beta_1 = 3; beta_2 = 2\n",
        "error_1 = np.random.normal(size=100)\n",
        "error_2 = np.random.normal(size=100)\n",
        "a = np.random.random(size=100)\n",
        "b = 0.2*a + error_2\n",
        "y = 3*a + 2*b + error_1\n",
        "# print(y.shape, a.shape, b.shape, error_1.shape, error_2.shape)\n",
        "\n",
        "# beta_hat = (X^T * X)^-1 * (X^T * y)\n",
        "X = np.array([a, b]).T\n",
        "# print(X.shape)\n",
        "betas = np.matmul(np.linalg.inv(np.matmul(X.T, X)), np.matmul(X.T, y))\n",
        "print(f'Beta 1: {betas[0]}, Beta 2: {betas[1]}\\n')\n",
        "\n",
        "# Reduced\n",
        "# y = beta_1 * a\n",
        "# => y = 3a + 2(0.2a + error) + error \n",
        "# => y = 3.4a + error\n",
        "# beta_1 = 3.4\n",
        "y = 3.4*a + error_1\n",
        "# print(y.shape)\n",
        "beta = (1/np.dot(a.T, a)) * np.dot(a.T, y)\n",
        "print(f'Beta 1: {beta}')"
      ],
      "execution_count": null,
      "outputs": [
        {
          "output_type": "stream",
          "text": [
            "Beta 1: 3.070587649908423, Beta 2: 2.136577726478282\n",
            "\n",
            "Beta 1: 3.481014868998334\n"
          ],
          "name": "stdout"
        }
      ]
    },
    {
      "cell_type": "code",
      "metadata": {
        "id": "8yBeq6I2ZT7v"
      },
      "source": [
        ""
      ],
      "execution_count": null,
      "outputs": []
    }
  ]
}